{
 "cells": [
  {
   "cell_type": "code",
   "execution_count": 1,
   "id": "c04b3409",
   "metadata": {},
   "outputs": [],
   "source": [
    "import pandas as pd\n",
    "import matplotlib.pyplot as plt"
   ]
  },
  {
   "cell_type": "code",
   "execution_count": 2,
   "id": "5dbd35ec",
   "metadata": {},
   "outputs": [],
   "source": [
    "df = pd.read_csv(\"coalitie_data.csv\")"
   ]
  },
  {
   "cell_type": "code",
   "execution_count": 3,
   "id": "73f1f390",
   "metadata": {},
   "outputs": [],
   "source": [
    "df = df.set_index(\"Iteration\")"
   ]
  },
  {
   "cell_type": "markdown",
   "id": "e6d79e89",
   "metadata": {},
   "source": [
    "# Onderzoeksvraag\n",
    "Hoe diverse worden onze coalities in onze simulatie, gegeven de huidige waardebepalingsmethode.\n",
    "\n",
    "# Hypothese\n",
    "We vermoeden dat onze huidige methode van waardebepaling leidt tot weinig diversiteit in strength en resourcefulness binnen coalities.\n",
    "\n",
    "# Experiment\n",
    "We voeren een experiment uit met 20 simulaties, die elk een duur van 500 tijdstappen hebben. In elke simulatie zijn er 10 agenten aanwezig en 10 locaties met een hogere kans op voedsel. Aan het begin van de simulatie bestaat de groep agenten uit 4 normale agenten, 3 agenten met een hogere resourcefulness en 3 agenten met een hogere strength. Aan het einde kijken we naar de data van de overlevende agenten.\n",
    "\n",
    "Hieronder zien we de boxplot voor Diversity, Average Strength en Average Resourcefulness"
   ]
  },
  {
   "cell_type": "code",
   "execution_count": 4,
   "id": "bb479d86",
   "metadata": {},
   "outputs": [
    {
     "data": {
      "text/plain": [
       "[]"
      ]
     },
     "execution_count": 4,
     "metadata": {},
     "output_type": "execute_result"
    },
    {
     "data": {
      "image/png": "[encoded data removed]",
      "text/plain": [
       "<Figure size 432x288 with 1 Axes>"
      ]
     },
     "metadata": {
      "needs_background": "light"
     },
     "output_type": "display_data"
    }
   ],
   "source": [
    "df[['Diversity', 'Strength', 'Resourcefulness']].boxplot(grid=False, rot=45, fontsize=15)\n",
    "plt.plot()"
   ]
  },
  {
   "cell_type": "code",
   "execution_count": 5,
   "id": "f4e322dd",
   "metadata": {},
   "outputs": [
    {
     "data": {
      "text/html": [
       "<div>\n",
       "<style scoped>\n",
       "    .dataframe tbody tr th:only-of-type {\n",
       "        vertical-align: middle;\n",
       "    }\n",
       "\n",
       "    .dataframe tbody tr th {\n",
       "        vertical-align: top;\n",
       "    }\n",
       "\n",
       "    .dataframe thead th {\n",
       "        text-align: right;\n",
       "    }\n",
       "</style>\n",
       "<table border=\"1\" class=\"dataframe\">\n",
       "  <thead>\n",
       "    <tr style=\"text-align: right;\">\n",
       "      <th></th>\n",
       "      <th>Diversity</th>\n",
       "      <th>Strength</th>\n",
       "      <th>Resourcefulness</th>\n",
       "    </tr>\n",
       "  </thead>\n",
       "  <tbody>\n",
       "    <tr>\n",
       "      <th>count</th>\n",
       "      <td>20.000000</td>\n",
       "      <td>20.000000</td>\n",
       "      <td>20.000000</td>\n",
       "    </tr>\n",
       "    <tr>\n",
       "      <th>mean</th>\n",
       "      <td>0.848006</td>\n",
       "      <td>1.888214</td>\n",
       "      <td>2.111786</td>\n",
       "    </tr>\n",
       "    <tr>\n",
       "      <th>std</th>\n",
       "      <td>0.534791</td>\n",
       "      <td>0.298638</td>\n",
       "      <td>0.298638</td>\n",
       "    </tr>\n",
       "    <tr>\n",
       "      <th>min</th>\n",
       "      <td>0.000000</td>\n",
       "      <td>1.500000</td>\n",
       "      <td>1.500000</td>\n",
       "    </tr>\n",
       "    <tr>\n",
       "      <th>25%</th>\n",
       "      <td>0.539891</td>\n",
       "      <td>1.650000</td>\n",
       "      <td>2.000000</td>\n",
       "    </tr>\n",
       "    <tr>\n",
       "      <th>50%</th>\n",
       "      <td>0.642229</td>\n",
       "      <td>1.857143</td>\n",
       "      <td>2.142857</td>\n",
       "    </tr>\n",
       "    <tr>\n",
       "      <th>75%</th>\n",
       "      <td>1.316896</td>\n",
       "      <td>2.000000</td>\n",
       "      <td>2.350000</td>\n",
       "    </tr>\n",
       "    <tr>\n",
       "      <th>max</th>\n",
       "      <td>1.914214</td>\n",
       "      <td>2.500000</td>\n",
       "      <td>2.500000</td>\n",
       "    </tr>\n",
       "  </tbody>\n",
       "</table>\n",
       "</div>"
      ],
      "text/plain": [
       "       Diversity   Strength  Resourcefulness\n",
       "count  20.000000  20.000000        20.000000\n",
       "mean    0.848006   1.888214         2.111786\n",
       "std     0.534791   0.298638         0.298638\n",
       "min     0.000000   1.500000         1.500000\n",
       "25%     0.539891   1.650000         2.000000\n",
       "50%     0.642229   1.857143         2.142857\n",
       "75%     1.316896   2.000000         2.350000\n",
       "max     1.914214   2.500000         2.500000"
      ]
     },
     "execution_count": 5,
     "metadata": {},
     "output_type": "execute_result"
    }
   ],
   "source": [
    "df.describe()"
   ]
  },
  {
   "cell_type": "markdown",
   "id": "a9589783",
   "metadata": {},
   "source": [
    "# Resultaten\n",
    "We kunnen hier zien dat coalities erg divers zijn. Verder zien we dat resourcefulness belangrijker was dan strength in onze simulatie omgeving, omdat er gemiddeld een hogere resourcefulness was dan strength. \n",
    "\n",
    "# Conclusie\n",
    "Gebaseerd op deze resultaten, kunnen we duidelijk zien dat de coalities diversiteit van coalities hoog is en dus klopt onze hypothese niet."
   ]
  },
  {
   "cell_type": "code",
   "execution_count": null,
   "id": "52e7ce9b",
   "metadata": {},
   "outputs": [],
   "source": []
  }
 ],
 "metadata": {
  "kernelspec": {
   "display_name": "Python 3",
   "language": "python",
   "name": "python3"
  },
  "language_info": {
   "codemirror_mode": {
    "name": "ipython",
    "version": 3
   },
   "file_extension": ".py",
   "mimetype": "text/x-python",
   "name": "python",
   "nbconvert_exporter": "python",
   "pygments_lexer": "ipython3",
   "version": "3.9.0"
  }
 },
 "nbformat": 4,
 "nbformat_minor": 5
}
