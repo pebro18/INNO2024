{
 "cells": [
  {
   "attachments": {},
   "cell_type": "markdown",
   "metadata": {},
   "source": [
    "# Experiment analysis\n",
    "Auction Algorithm"
   ]
  },
  {
   "attachments": {},
   "cell_type": "markdown",
   "metadata": {},
   "source": [
    "Onderzoeksvraag: Hoe efficiënter wordt het verzamelen van eten bij het gebruik van een Auction algoritme?\n",
    "\n",
    "Hypothese: Het verzamelen van eten wordt wel efficiënter bij het gebruik van een Auction algoritme.\n",
    "\n",
    "Experiment:​\n",
    "\n",
    "- Een controlegroep en een testgroep​\n",
    "\n",
    "- Doel: Eten vinden en overleven als een groep"
   ]
  },
  {
   "cell_type": "code",
   "execution_count": null,
   "metadata": {},
   "outputs": [],
   "source": [
    "import pandas as pd\n",
    "import glob\n",
    "import matplotlib.pyplot as plt"
   ]
  },
  {
   "cell_type": "code",
   "execution_count": null,
   "metadata": {},
   "outputs": [],
   "source": [
    "full_df = pd.DataFrame(columns=['Time Survived', 'Foods Collected', 'Auction Algorithm'])\n",
    "for i in range(1, 10):\n",
    "    all_files = glob.glob(f\"agent_stat_export/run{i}/*.csv\")\n",
    "    df = pd.concat((pd.read_csv(f) for f in all_files))\n",
    "    # print(df)\n",
    "    full_df = full_df.append(df)\n",
    "print(full_df)\n"
   ]
  },
  {
   "attachments": {},
   "cell_type": "markdown",
   "metadata": {},
   "source": [
    "### Average survival times\n",
    "We zien dat de gemiddelde tijd dat de agents overleven niet beter wordt met het Auction algoritme. Dit komt waarschijnlijk omdat veel agents al vroeg dood gaan voordat ze een goede memory kunnen opbouwen."
   ]
  },
  {
   "cell_type": "code",
   "execution_count": null,
   "metadata": {},
   "outputs": [],
   "source": [
    "non_auction = full_df[full_df['Auction Algorithm'] == False]\n",
    "auction = full_df[full_df['Auction Algorithm'] == True]\n",
    "print(\"Average survival time:\")\n",
    "print(f\"Non-Auction: {non_auction['Time Survived'].mean()} ticks\")\n",
    "print(f\"Auction:     {auction['Time Survived'].mean()} ticks\")"
   ]
  },
  {
   "cell_type": "code",
   "execution_count": null,
   "metadata": {},
   "outputs": [],
   "source": [
    "# Plotting the data\n",
    "plt.figure(figsize=(10, 5))\n",
    "plt.subplot(1, 2, 1)\n",
    "plt.hist(non_auction['Time Survived'], bins=20, label='Non-Auction')\n",
    "plt.hist(auction['Time Survived'], bins=20, label='Auction')\n",
    "plt.legend()\n",
    "plt.title('Time Survived')\n",
    "plt.xlabel('Ticks')\n",
    "plt.ylabel('Frequency')\n"
   ]
  },
  {
   "cell_type": "code",
   "execution_count": null,
   "metadata": {},
   "outputs": [],
   "source": []
  },
  {
   "cell_type": "code",
   "execution_count": null,
   "metadata": {},
   "outputs": [],
   "source": []
  }
 ],
 "metadata": {
  "kernelspec": {
   "display_name": "Python 3",
   "language": "python",
   "name": "python3"
  },
  "language_info": {
   "codemirror_mode": {
    "name": "ipython",
    "version": 3
   },
   "file_extension": ".py",
   "mimetype": "text/x-python",
   "name": "python",
   "nbconvert_exporter": "python",
   "pygments_lexer": "ipython3",
   "version": "3.8.5"
  },
  "orig_nbformat": 4
 },
 "nbformat": 4,
 "nbformat_minor": 2
}
